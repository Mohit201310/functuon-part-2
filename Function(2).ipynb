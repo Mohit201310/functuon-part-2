{
 "cells": [
  {
   "cell_type": "code",
   "execution_count": 1,
   "id": "823c6885-a56a-44c6-bd3f-1bbb473dffe3",
   "metadata": {},
   "outputs": [],
   "source": [
    "def test1():\n",
    "    a = 5+6\n",
    "    return a"
   ]
  },
  {
   "cell_type": "code",
   "execution_count": 2,
   "id": "10452aac-e012-4d8e-8ba2-59a051b451d1",
   "metadata": {},
   "outputs": [
    {
     "data": {
      "text/plain": [
       "11"
      ]
     },
     "execution_count": 2,
     "metadata": {},
     "output_type": "execute_result"
    }
   ],
   "source": [
    "test1()"
   ]
  },
  {
   "cell_type": "code",
   "execution_count": 3,
   "id": "50be582f-9e48-48a5-bbac-bc659b9370d1",
   "metadata": {},
   "outputs": [],
   "source": [
    "def test2(a,b):\n",
    "    return a+ b "
   ]
  },
  {
   "cell_type": "code",
   "execution_count": 4,
   "id": "7690f646-612d-48a7-9577-cc1f1e1482c7",
   "metadata": {},
   "outputs": [
    {
     "data": {
      "text/plain": [
       "3"
      ]
     },
     "execution_count": 4,
     "metadata": {},
     "output_type": "execute_result"
    }
   ],
   "source": [
    "test2(1,2)"
   ]
  },
  {
   "cell_type": "code",
   "execution_count": 5,
   "id": "271ceca0-c84c-40f2-872a-450204b35dcf",
   "metadata": {},
   "outputs": [
    {
     "data": {
      "text/plain": [
       "'mohityadav'"
      ]
     },
     "execution_count": 5,
     "metadata": {},
     "output_type": "execute_result"
    }
   ],
   "source": [
    "test2(\"mohit\",\"yadav\")"
   ]
  },
  {
   "cell_type": "code",
   "execution_count": 6,
   "id": "1205f14c-2b52-4ed1-9b84-930fc0b7c504",
   "metadata": {},
   "outputs": [
    {
     "data": {
      "text/plain": [
       "'rtyersfsdfd'"
      ]
     },
     "execution_count": 6,
     "metadata": {},
     "output_type": "execute_result"
    }
   ],
   "source": [
    "test2(b = \"sfsdfd\" , a = \"rtyer\")"
   ]
  },
  {
   "cell_type": "code",
   "execution_count": 7,
   "id": "3c1edddd-861e-42a4-ab4d-a35ad06ccd53",
   "metadata": {},
   "outputs": [],
   "source": [
    "def  test3(*args):\n",
    "    return args"
   ]
  },
  {
   "cell_type": "code",
   "execution_count": 8,
   "id": "af8b9401-14f0-4004-84ba-e4319459fd36",
   "metadata": {},
   "outputs": [
    {
     "data": {
      "text/plain": [
       "tuple"
      ]
     },
     "execution_count": 8,
     "metadata": {},
     "output_type": "execute_result"
    }
   ],
   "source": [
    "type(test3(1,2,3,4,\"mohit\"))"
   ]
  },
  {
   "cell_type": "code",
   "execution_count": 9,
   "id": "b822e8d9-8678-493a-a12b-991861c8a571",
   "metadata": {},
   "outputs": [
    {
     "data": {
      "text/plain": [
       "([1, 2, 3, 4, 5], 'mohit', 'ineuron', (5+7j), (4, 5, 6))"
      ]
     },
     "execution_count": 9,
     "metadata": {},
     "output_type": "execute_result"
    }
   ],
   "source": [
    "test3([1,2,3,4,5], \"mohit\" , \"ineuron\", 5+7j, (4,5,6))"
   ]
  },
  {
   "cell_type": "code",
   "execution_count": 10,
   "id": "06e4627c-473a-4d0a-b35f-6d4ac888d34c",
   "metadata": {},
   "outputs": [],
   "source": [
    "def test4(*args):\n",
    "    return list(args)"
   ]
  },
  {
   "cell_type": "code",
   "execution_count": 11,
   "id": "051894f9-9ef8-4e67-a560-768ac3a8328f",
   "metadata": {},
   "outputs": [
    {
     "data": {
      "text/plain": [
       "['mohit', True, (8+7j), 34, 34.56]"
      ]
     },
     "execution_count": 11,
     "metadata": {},
     "output_type": "execute_result"
    }
   ],
   "source": [
    "test4(\"mohit\", True , 8+7j , 34 , 34.56)"
   ]
  },
  {
   "cell_type": "code",
   "execution_count": 12,
   "id": "11418f4d-6ac7-4298-a927-9669eed8b548",
   "metadata": {},
   "outputs": [
    {
     "ename": "NameError",
     "evalue": "name 'test5' is not defined",
     "output_type": "error",
     "traceback": [
      "\u001b[0;31m---------------------------------------------------------------------------\u001b[0m",
      "\u001b[0;31mNameError\u001b[0m                                 Traceback (most recent call last)",
      "Cell \u001b[0;32mIn [12], line 1\u001b[0m\n\u001b[0;32m----> 1\u001b[0m \u001b[43mtest5\u001b[49m(\u001b[38;5;241m34\u001b[39m,\u001b[38;5;241m56\u001b[39m,\u001b[38;5;241m78\u001b[39m,\u001b[38;5;241m32\u001b[39m)\n",
      "\u001b[0;31mNameError\u001b[0m: name 'test5' is not defined"
     ]
    }
   ],
   "source": [
    "test5(34,56,78,32)"
   ]
  },
  {
   "cell_type": "code",
   "execution_count": 13,
   "id": "d8c64ca2-6dc9-44d3-9570-2eff1584317f",
   "metadata": {},
   "outputs": [],
   "source": [
    "def test6(*mohit) :\n",
    "    return list(mohit)"
   ]
  },
  {
   "cell_type": "code",
   "execution_count": 14,
   "id": "3819fe4e-e700-46ef-abbb-fbb6c7444826",
   "metadata": {},
   "outputs": [
    {
     "data": {
      "text/plain": [
       "[23, 45, 67, 443267]"
      ]
     },
     "execution_count": 14,
     "metadata": {},
     "output_type": "execute_result"
    }
   ],
   "source": [
    "test6(23,45,67,443267)"
   ]
  },
  {
   "cell_type": "code",
   "execution_count": 15,
   "id": "fb469007-9bb9-430c-8658-1d6c89a01105",
   "metadata": {},
   "outputs": [],
   "source": [
    "l = [1,2,3,4,5,6]\n",
    "t = (4,5,6,8+7j)\n",
    "s = {3,4,5,6,6,7,8,6,6,6,6}"
   ]
  },
  {
   "cell_type": "code",
   "execution_count": 16,
   "id": "96e45cec-09f9-4a28-890c-32d29ab39e03",
   "metadata": {},
   "outputs": [
    {
     "data": {
      "text/plain": [
       "[1, 2, 3, 4, 5, 6]"
      ]
     },
     "execution_count": 16,
     "metadata": {},
     "output_type": "execute_result"
    }
   ],
   "source": [
    "l "
   ]
  },
  {
   "cell_type": "code",
   "execution_count": 17,
   "id": "85af3037-f423-4377-9fce-fef15fb80f44",
   "metadata": {},
   "outputs": [
    {
     "data": {
      "text/plain": [
       "{3, 4, 5, 6, 7, 8}"
      ]
     },
     "execution_count": 17,
     "metadata": {},
     "output_type": "execute_result"
    }
   ],
   "source": [
    "s"
   ]
  },
  {
   "cell_type": "code",
   "execution_count": 18,
   "id": "165e1027-8017-47eb-b760-7caedab71f6b",
   "metadata": {},
   "outputs": [],
   "source": [
    "d = {}"
   ]
  },
  {
   "cell_type": "code",
   "execution_count": 19,
   "id": "52bff84a-ed70-4338-bfd8-9fdee68c82df",
   "metadata": {},
   "outputs": [
    {
     "data": {
      "text/plain": [
       "dict"
      ]
     },
     "execution_count": 19,
     "metadata": {},
     "output_type": "execute_result"
    }
   ],
   "source": [
    "type(d)"
   ]
  },
  {
   "cell_type": "code",
   "execution_count": 20,
   "id": "7f701163-7d15-4435-af24-d5b1db00f048",
   "metadata": {},
   "outputs": [],
   "source": [
    "d1 = {2,3,4,5}"
   ]
  },
  {
   "cell_type": "code",
   "execution_count": 21,
   "id": "b58103e8-deca-4678-924d-aa2d318d9bc4",
   "metadata": {},
   "outputs": [
    {
     "data": {
      "text/plain": [
       "set"
      ]
     },
     "execution_count": 21,
     "metadata": {},
     "output_type": "execute_result"
    }
   ],
   "source": [
    "type(d1)"
   ]
  },
  {
   "cell_type": "code",
   "execution_count": 22,
   "id": "eb2fd682-564a-49b8-b494-4062cb143f1c",
   "metadata": {},
   "outputs": [],
   "source": [
    "d2 = {\"key1\" : \"mohit\" , \"key2\" : [2,3,4,5]}"
   ]
  },
  {
   "cell_type": "code",
   "execution_count": 23,
   "id": "a811b4d4-52e0-4d9a-90e9-9e1987300f99",
   "metadata": {},
   "outputs": [
    {
     "data": {
      "text/plain": [
       "[1, 2, 3, 4, 5, 6]"
      ]
     },
     "execution_count": 23,
     "metadata": {},
     "output_type": "execute_result"
    }
   ],
   "source": [
    "l "
   ]
  },
  {
   "cell_type": "code",
   "execution_count": 24,
   "id": "f7d50c31-9098-4d3a-a93a-c88eeb7cf4fc",
   "metadata": {},
   "outputs": [
    {
     "data": {
      "text/plain": [
       "{'key1': 'mohit', 'key2': [2, 3, 4, 5]}"
      ]
     },
     "execution_count": 24,
     "metadata": {},
     "output_type": "execute_result"
    }
   ],
   "source": [
    "d2"
   ]
  },
  {
   "cell_type": "code",
   "execution_count": 25,
   "id": "f62e7032-ab79-4673-8652-84f43e136523",
   "metadata": {},
   "outputs": [],
   "source": [
    "d3 = {23345 :\"mohit\"}"
   ]
  },
  {
   "cell_type": "code",
   "execution_count": 26,
   "id": "d4d7e276-e6cf-4b35-a05b-986c0e1ab6df",
   "metadata": {},
   "outputs": [
    {
     "data": {
      "text/plain": [
       "{23345: 'mohit'}"
      ]
     },
     "execution_count": 26,
     "metadata": {},
     "output_type": "execute_result"
    }
   ],
   "source": [
    "d3"
   ]
  },
  {
   "cell_type": "code",
   "execution_count": 27,
   "id": "c7f1c5af-1cd2-4e04-a43e-bf96a3ffea24",
   "metadata": {},
   "outputs": [
    {
     "ename": "SyntaxError",
     "evalue": "invalid syntax (3536720181.py, line 1)",
     "output_type": "error",
     "traceback": [
      "\u001b[0;36m  Cell \u001b[0;32mIn [27], line 1\u001b[0;36m\u001b[0m\n\u001b[0;31m    d4 = {$ : \"mohit\"}\u001b[0m\n\u001b[0m          ^\u001b[0m\n\u001b[0;31mSyntaxError\u001b[0m\u001b[0;31m:\u001b[0m invalid syntax\n"
     ]
    }
   ],
   "source": [
    "d4 = {$ : \"mohit\"}"
   ]
  },
  {
   "cell_type": "code",
   "execution_count": null,
   "id": "c609b3b8-2c04-4e21-bc58-eac8fde796c7",
   "metadata": {},
   "outputs": [],
   "source": [
    "d4 = {\"mohit\": \"mohit\"}"
   ]
  },
  {
   "cell_type": "code",
   "execution_count": 28,
   "id": "9c853e50-9baf-4d2d-8f38-cbdf596ba40c",
   "metadata": {},
   "outputs": [
    {
     "ename": "NameError",
     "evalue": "name 'd4' is not defined",
     "output_type": "error",
     "traceback": [
      "\u001b[0;31m---------------------------------------------------------------------------\u001b[0m",
      "\u001b[0;31mNameError\u001b[0m                                 Traceback (most recent call last)",
      "Cell \u001b[0;32mIn [28], line 1\u001b[0m\n\u001b[0;32m----> 1\u001b[0m \u001b[43md4\u001b[49m\n",
      "\u001b[0;31mNameError\u001b[0m: name 'd4' is not defined"
     ]
    }
   ],
   "source": [
    "d4"
   ]
  },
  {
   "cell_type": "code",
   "execution_count": 29,
   "id": "1dd871ae-95c6-412f-8a1b-927e3f6b6ccb",
   "metadata": {},
   "outputs": [
    {
     "ename": "TypeError",
     "evalue": "unhashable type: 'list'",
     "output_type": "error",
     "traceback": [
      "\u001b[0;31m---------------------------------------------------------------------------\u001b[0m",
      "\u001b[0;31mTypeError\u001b[0m                                 Traceback (most recent call last)",
      "Cell \u001b[0;32mIn [29], line 1\u001b[0m\n\u001b[0;32m----> 1\u001b[0m d5 \u001b[38;5;241m=\u001b[39m {[\u001b[38;5;241m2\u001b[39m,\u001b[38;5;241m3\u001b[39m,\u001b[38;5;241m4\u001b[39m,\u001b[38;5;241m5\u001b[39m] : \u001b[38;5;124m\"\u001b[39m\u001b[38;5;124mmohit\u001b[39m\u001b[38;5;124m\"\u001b[39m}\n",
      "\u001b[0;31mTypeError\u001b[0m: unhashable type: 'list'"
     ]
    }
   ],
   "source": [
    "d5 = {[2,3,4,5] : \"mohit\"}"
   ]
  },
  {
   "cell_type": "code",
   "execution_count": 30,
   "id": "cb414c33-1325-4162-afee-53b0460ab101",
   "metadata": {},
   "outputs": [],
   "source": [
    "d6 = {(3,4,5,6) :\"mohit\"}"
   ]
  },
  {
   "cell_type": "code",
   "execution_count": 31,
   "id": "55785536-f15c-4386-9b01-ebc86d18c0c9",
   "metadata": {},
   "outputs": [
    {
     "data": {
      "text/plain": [
       "{(3, 4, 5, 6): 'mohit'}"
      ]
     },
     "execution_count": 31,
     "metadata": {},
     "output_type": "execute_result"
    }
   ],
   "source": [
    "d6"
   ]
  },
  {
   "cell_type": "code",
   "execution_count": 32,
   "id": "7c457cb4-4388-497f-a71e-3a570da1ea62",
   "metadata": {},
   "outputs": [],
   "source": [
    "d7 = { \"name\" : \"mohit\" , \"org\" : \"ineuron\" , \"mail id\" : \"mohityadav@ineuron.ai\" , \"name\" : \"mohi\" , \"name1\" : \"mohi\"}"
   ]
  },
  {
   "cell_type": "code",
   "execution_count": 33,
   "id": "af7f7d61-dcf6-485d-8d33-41a57746447b",
   "metadata": {},
   "outputs": [
    {
     "data": {
      "text/plain": [
       "{'name': 'mohi',\n",
       " 'org': 'ineuron',\n",
       " 'mail id': 'mohityadav@ineuron.ai',\n",
       " 'name1': 'mohi'}"
      ]
     },
     "execution_count": 33,
     "metadata": {},
     "output_type": "execute_result"
    }
   ],
   "source": [
    "d7"
   ]
  },
  {
   "cell_type": "code",
   "execution_count": 34,
   "id": "abadf350-d88c-4118-bf62-05c8c3f76a24",
   "metadata": {},
   "outputs": [],
   "source": [
    "d8 = { \"name\" : \"mohit\" , \"mentor\" : {\" fsds\" : \"imran\" ,\"fsda\" : \"anand\" , \"bigdata\" : \"shashank\"}}"
   ]
  },
  {
   "cell_type": "code",
   "execution_count": 35,
   "id": "86d044ef-34a3-44ce-ad59-f1a16948caa6",
   "metadata": {},
   "outputs": [
    {
     "data": {
      "text/plain": [
       "{'name': 'mohit',\n",
       " 'mentor': {' fsds': 'imran', 'fsda': 'anand', 'bigdata': 'shashank'}}"
      ]
     },
     "execution_count": 35,
     "metadata": {},
     "output_type": "execute_result"
    }
   ],
   "source": [
    "d8"
   ]
  },
  {
   "cell_type": "code",
   "execution_count": 36,
   "id": "3cbb2de2-7c76-4fb8-9d5c-ec9dac5b2fe0",
   "metadata": {},
   "outputs": [
    {
     "data": {
      "text/plain": [
       "{'name': 'mohi',\n",
       " 'org': 'ineuron',\n",
       " 'mail id': 'mohityadav@ineuron.ai',\n",
       " 'name1': 'mohi'}"
      ]
     },
     "execution_count": 36,
     "metadata": {},
     "output_type": "execute_result"
    }
   ],
   "source": [
    "d7"
   ]
  },
  {
   "cell_type": "code",
   "execution_count": 37,
   "id": "9271d15d-91b2-4c17-b726-e9c79fae9a94",
   "metadata": {},
   "outputs": [
    {
     "data": {
      "text/plain": [
       "[1, 2, 3, 4, 5, 6]"
      ]
     },
     "execution_count": 37,
     "metadata": {},
     "output_type": "execute_result"
    }
   ],
   "source": [
    "l "
   ]
  },
  {
   "cell_type": "code",
   "execution_count": 38,
   "id": "5a15b1a0-de06-4035-8b36-f2e6f59278cd",
   "metadata": {},
   "outputs": [
    {
     "data": {
      "text/plain": [
       "2"
      ]
     },
     "execution_count": 38,
     "metadata": {},
     "output_type": "execute_result"
    }
   ],
   "source": [
    "l[1]"
   ]
  },
  {
   "cell_type": "code",
   "execution_count": 39,
   "id": "76d5f6c1-265b-4cc9-9c8d-74a9ddc07df5",
   "metadata": {},
   "outputs": [
    {
     "data": {
      "text/plain": [
       "'mohityadav@ineuron.ai'"
      ]
     },
     "execution_count": 39,
     "metadata": {},
     "output_type": "execute_result"
    }
   ],
   "source": [
    "d7[\"mail id\"]"
   ]
  },
  {
   "cell_type": "code",
   "execution_count": 40,
   "id": "ac952f66-865f-412e-b32d-bc6e7905e79d",
   "metadata": {},
   "outputs": [
    {
     "ename": "KeyError",
     "evalue": "2",
     "output_type": "error",
     "traceback": [
      "\u001b[0;31m---------------------------------------------------------------------------\u001b[0m",
      "\u001b[0;31mKeyError\u001b[0m                                  Traceback (most recent call last)",
      "Cell \u001b[0;32mIn [40], line 1\u001b[0m\n\u001b[0;32m----> 1\u001b[0m \u001b[43md7\u001b[49m\u001b[43m[\u001b[49m\u001b[38;5;241;43m2\u001b[39;49m\u001b[43m]\u001b[49m\n",
      "\u001b[0;31mKeyError\u001b[0m: 2"
     ]
    }
   ],
   "source": [
    "d7[2]"
   ]
  },
  {
   "cell_type": "code",
   "execution_count": 41,
   "id": "4fb22fcf-4b2b-40b1-8441-7937a3f15dcc",
   "metadata": {},
   "outputs": [
    {
     "data": {
      "text/plain": [
       "{'name': 'mohit',\n",
       " 'mentor': {' fsds': 'imran', 'fsda': 'anand', 'bigdata': 'shashank'}}"
      ]
     },
     "execution_count": 41,
     "metadata": {},
     "output_type": "execute_result"
    }
   ],
   "source": [
    "d8"
   ]
  },
  {
   "cell_type": "code",
   "execution_count": 42,
   "id": "f8c395fe-47f3-4a45-ab59-80081a708ae4",
   "metadata": {},
   "outputs": [
    {
     "data": {
      "text/plain": [
       "'shashank'"
      ]
     },
     "execution_count": 42,
     "metadata": {},
     "output_type": "execute_result"
    }
   ],
   "source": [
    "d8[\"mentor\"][\"bigdata\"]"
   ]
  },
  {
   "cell_type": "code",
   "execution_count": 43,
   "id": "bf1d24a0-311e-4ab2-8072-0158ba76c180",
   "metadata": {},
   "outputs": [
    {
     "data": {
      "text/plain": [
       "{'name': 'mohi',\n",
       " 'org': 'ineuron',\n",
       " 'mail id': 'mohityadav@ineuron.ai',\n",
       " 'name1': 'mohi'}"
      ]
     },
     "execution_count": 43,
     "metadata": {},
     "output_type": "execute_result"
    }
   ],
   "source": [
    "d7"
   ]
  },
  {
   "cell_type": "code",
   "execution_count": 44,
   "id": "f8b2818f-48a1-436c-9f70-b84c0f704aea",
   "metadata": {},
   "outputs": [
    {
     "data": {
      "text/plain": [
       "dict_keys(['name', 'org', 'mail id', 'name1'])"
      ]
     },
     "execution_count": 44,
     "metadata": {},
     "output_type": "execute_result"
    }
   ],
   "source": [
    "d7.keys()"
   ]
  },
  {
   "cell_type": "code",
   "execution_count": 45,
   "id": "afe67397-d495-4842-804e-188cb5fa3fb0",
   "metadata": {},
   "outputs": [
    {
     "data": {
      "text/plain": [
       "dict_values(['mohi', 'ineuron', 'mohityadav@ineuron.ai', 'mohi'])"
      ]
     },
     "execution_count": 45,
     "metadata": {},
     "output_type": "execute_result"
    }
   ],
   "source": [
    "d7.values()"
   ]
  },
  {
   "cell_type": "code",
   "execution_count": 46,
   "id": "c0275d35-c009-4ead-9865-bdcbe688332a",
   "metadata": {},
   "outputs": [
    {
     "data": {
      "text/plain": [
       "dict_items([('name', 'mohi'), ('org', 'ineuron'), ('mail id', 'mohityadav@ineuron.ai'), ('name1', 'mohi')])"
      ]
     },
     "execution_count": 46,
     "metadata": {},
     "output_type": "execute_result"
    }
   ],
   "source": [
    "d7.items()"
   ]
  },
  {
   "cell_type": "code",
   "execution_count": 47,
   "id": "fea7c850-2b0d-4467-a7e1-d46883e08ede",
   "metadata": {},
   "outputs": [
    {
     "data": {
      "text/plain": [
       "{'name': 'mohit',\n",
       " 'mentor': {' fsds': 'imran', 'fsda': 'anand', 'bigdata': 'shashank'}}"
      ]
     },
     "execution_count": 47,
     "metadata": {},
     "output_type": "execute_result"
    }
   ],
   "source": [
    "d8"
   ]
  },
  {
   "cell_type": "code",
   "execution_count": 48,
   "id": "05b5e1bc-2719-4232-a057-f3c0fcdb2084",
   "metadata": {},
   "outputs": [
    {
     "data": {
      "text/plain": [
       "['imran', 'anand', 'shashank']"
      ]
     },
     "execution_count": 48,
     "metadata": {},
     "output_type": "execute_result"
    }
   ],
   "source": [
    "list(d8[\"mentor\"].values())"
   ]
  },
  {
   "cell_type": "code",
   "execution_count": 49,
   "id": "838eeff5-737e-486f-9468-899183d3893b",
   "metadata": {},
   "outputs": [],
   "source": [
    "l = []\n",
    "for i in d8.keys():\n",
    "    if type(d8[i]) == dict:\n",
    "        l.append(list(d8[i].values()))"
   ]
  },
  {
   "cell_type": "code",
   "execution_count": 50,
   "id": "6b6abc9c-cb01-4325-8037-b40dc89697b6",
   "metadata": {},
   "outputs": [
    {
     "data": {
      "text/plain": [
       "[['imran', 'anand', 'shashank']]"
      ]
     },
     "execution_count": 50,
     "metadata": {},
     "output_type": "execute_result"
    }
   ],
   "source": [
    "l"
   ]
  },
  {
   "cell_type": "code",
   "execution_count": 51,
   "id": "f5a6879b-87ce-4f8d-9d5b-9f2e4848b43b",
   "metadata": {},
   "outputs": [],
   "source": [
    "d9 = {'name': 'mohit','mentor': {' fsds': 'imran', 'fsda': 'anand', 'bigdata': 'shashank'}, \"mail_id\" : {\"imran\" : \"imran@ineuron.ai\" , \"anand\" : \"anand@ineuron.ai\" , \"shashank\" : \"shashank@ineuron.ai\"}}"
   ]
  },
  {
   "cell_type": "code",
   "execution_count": 52,
   "id": "a2ba178d-7930-4c95-b7c5-e1f3ef43cabc",
   "metadata": {},
   "outputs": [
    {
     "data": {
      "text/plain": [
       "{'name': 'mohit',\n",
       " 'mentor': {' fsds': 'imran', 'fsda': 'anand', 'bigdata': 'shashank'},\n",
       " 'mail_id': {'imran': 'imran@ineuron.ai',\n",
       "  'anand': 'anand@ineuron.ai',\n",
       "  'shashank': 'shashank@ineuron.ai'}}"
      ]
     },
     "execution_count": 52,
     "metadata": {},
     "output_type": "execute_result"
    }
   ],
   "source": [
    "d9"
   ]
  },
  {
   "cell_type": "code",
   "execution_count": 53,
   "id": "04381d0e-9835-40bb-8fec-53074401b0f3",
   "metadata": {},
   "outputs": [],
   "source": [
    "l = []\n",
    "for i in d9.keys():\n",
    "    if type(d9[i]) == dict:\n",
    "        l.append(list(d9[i].values()))"
   ]
  },
  {
   "cell_type": "code",
   "execution_count": 54,
   "id": "348ce7e0-9042-4548-8858-522f8ef78da5",
   "metadata": {},
   "outputs": [
    {
     "data": {
      "text/plain": [
       "[['imran', 'anand', 'shashank'],\n",
       " ['imran@ineuron.ai', 'anand@ineuron.ai', 'shashank@ineuron.ai']]"
      ]
     },
     "execution_count": 54,
     "metadata": {},
     "output_type": "execute_result"
    }
   ],
   "source": [
    "l"
   ]
  },
  {
   "cell_type": "code",
   "execution_count": 55,
   "id": "c9905f20-f4bb-4d29-b9fb-d8b60cdad196",
   "metadata": {},
   "outputs": [],
   "source": [
    "def test9(d):\n",
    "    l = []\n",
    "    for i in d.keys():\n",
    "        if type(d[i]) == dict:\n",
    "            l.append(list(d[i].values()))\n",
    "    return l "
   ]
  },
  {
   "cell_type": "code",
   "execution_count": 56,
   "id": "bc4f5b76-80d6-40bb-a1a6-148db57de1f1",
   "metadata": {},
   "outputs": [
    {
     "data": {
      "text/plain": [
       "[['imran', 'anand', 'shashank']]"
      ]
     },
     "execution_count": 56,
     "metadata": {},
     "output_type": "execute_result"
    }
   ],
   "source": [
    "test9(d8)"
   ]
  },
  {
   "cell_type": "code",
   "execution_count": 57,
   "id": "98c8c030-4aab-430e-aaa4-e3df358cc1c4",
   "metadata": {},
   "outputs": [
    {
     "data": {
      "text/plain": [
       "[['imran', 'anand', 'shashank'],\n",
       " ['imran@ineuron.ai', 'anand@ineuron.ai', 'shashank@ineuron.ai']]"
      ]
     },
     "execution_count": 57,
     "metadata": {},
     "output_type": "execute_result"
    }
   ],
   "source": [
    "test9(d9)"
   ]
  },
  {
   "cell_type": "code",
   "execution_count": 58,
   "id": "8a3c6d87-b7a1-49fe-9877-0830ab081c03",
   "metadata": {},
   "outputs": [
    {
     "data": {
      "text/plain": [
       "{'name': 'mohit',\n",
       " 'mentor': {' fsds': 'imran', 'fsda': 'anand', 'bigdata': 'shashank'}}"
      ]
     },
     "execution_count": 58,
     "metadata": {},
     "output_type": "execute_result"
    }
   ],
   "source": [
    "d8"
   ]
  },
  {
   "cell_type": "code",
   "execution_count": 59,
   "id": "963ae870-2d94-48d4-8c7d-d162ae8f2a35",
   "metadata": {},
   "outputs": [],
   "source": [
    "d8[\"mobilenumber\"]= (435345,345345,34545654)"
   ]
  },
  {
   "cell_type": "code",
   "execution_count": 60,
   "id": "611c8e5a-9ff6-4cdc-86d1-d63e7e5e71a8",
   "metadata": {},
   "outputs": [
    {
     "data": {
      "text/plain": [
       "{'name': 'mohit',\n",
       " 'mentor': {' fsds': 'imran', 'fsda': 'anand', 'bigdata': 'shashank'},\n",
       " 'mobilenumber': (435345, 345345, 34545654)}"
      ]
     },
     "execution_count": 60,
     "metadata": {},
     "output_type": "execute_result"
    }
   ],
   "source": [
    "d8"
   ]
  },
  {
   "cell_type": "code",
   "execution_count": 61,
   "id": "75d58189-e2aa-4eab-8940-f229aeb021a1",
   "metadata": {},
   "outputs": [],
   "source": [
    "d8[\"name\"] = \"mohit yadav\""
   ]
  },
  {
   "cell_type": "code",
   "execution_count": 62,
   "id": "28f1dd15-03a2-493a-abec-94684769f97f",
   "metadata": {},
   "outputs": [
    {
     "data": {
      "text/plain": [
       "{'name': 'mohit yadav',\n",
       " 'mentor': {' fsds': 'imran', 'fsda': 'anand', 'bigdata': 'shashank'},\n",
       " 'mobilenumber': (435345, 345345, 34545654)}"
      ]
     },
     "execution_count": 62,
     "metadata": {},
     "output_type": "execute_result"
    }
   ],
   "source": [
    "d8"
   ]
  },
  {
   "cell_type": "code",
   "execution_count": 63,
   "id": "62a3a7de-dc11-497c-8426-9e6874269b7e",
   "metadata": {},
   "outputs": [
    {
     "data": {
      "text/plain": [
       "{'name': 'mohi',\n",
       " 'org': 'ineuron',\n",
       " 'mail id': 'mohityadav@ineuron.ai',\n",
       " 'name1': 'mohi'}"
      ]
     },
     "execution_count": 63,
     "metadata": {},
     "output_type": "execute_result"
    }
   ],
   "source": [
    "d7"
   ]
  },
  {
   "cell_type": "code",
   "execution_count": 64,
   "id": "0a61af39-c622-4375-9403-442232bb632b",
   "metadata": {},
   "outputs": [],
   "source": [
    "del d7"
   ]
  },
  {
   "cell_type": "code",
   "execution_count": 65,
   "id": "0ccf78f7-68a1-4553-bacc-6f98987db1e1",
   "metadata": {},
   "outputs": [
    {
     "ename": "NameError",
     "evalue": "name 'd7' is not defined",
     "output_type": "error",
     "traceback": [
      "\u001b[0;31m---------------------------------------------------------------------------\u001b[0m",
      "\u001b[0;31mNameError\u001b[0m                                 Traceback (most recent call last)",
      "Cell \u001b[0;32mIn [65], line 1\u001b[0m\n\u001b[0;32m----> 1\u001b[0m \u001b[43md7\u001b[49m\n",
      "\u001b[0;31mNameError\u001b[0m: name 'd7' is not defined"
     ]
    }
   ],
   "source": [
    "d7"
   ]
  },
  {
   "cell_type": "code",
   "execution_count": 66,
   "id": "a7fc5a45-11c0-43c5-9223-9bbe51fda49d",
   "metadata": {},
   "outputs": [
    {
     "data": {
      "text/plain": [
       "{'name': 'mohit yadav',\n",
       " 'mentor': {' fsds': 'imran', 'fsda': 'anand', 'bigdata': 'shashank'},\n",
       " 'mobilenumber': (435345, 345345, 34545654)}"
      ]
     },
     "execution_count": 66,
     "metadata": {},
     "output_type": "execute_result"
    }
   ],
   "source": [
    "d8"
   ]
  },
  {
   "cell_type": "code",
   "execution_count": 67,
   "id": "49f09683-a44e-45a9-b7b2-e06e418e70e1",
   "metadata": {},
   "outputs": [],
   "source": [
    "del d8[\"name\"]"
   ]
  },
  {
   "cell_type": "code",
   "execution_count": 68,
   "id": "d1447e88-fb9d-4070-aeb3-168672479780",
   "metadata": {},
   "outputs": [
    {
     "data": {
      "text/plain": [
       "{'mentor': {' fsds': 'imran', 'fsda': 'anand', 'bigdata': 'shashank'},\n",
       " 'mobilenumber': (435345, 345345, 34545654)}"
      ]
     },
     "execution_count": 68,
     "metadata": {},
     "output_type": "execute_result"
    }
   ],
   "source": [
    "d8"
   ]
  },
  {
   "cell_type": "code",
   "execution_count": 69,
   "id": "564e6fdc-3150-40f2-a802-a6749da87ae9",
   "metadata": {},
   "outputs": [
    {
     "data": {
      "text/plain": [
       "{' fsds': 'imran', 'fsda': 'anand', 'bigdata': 'shashank'}"
      ]
     },
     "execution_count": 69,
     "metadata": {},
     "output_type": "execute_result"
    }
   ],
   "source": [
    "d8.pop(\"mentor\")"
   ]
  },
  {
   "cell_type": "code",
   "execution_count": 70,
   "id": "589f48f2-8ec1-4eb8-8c0e-1b61c6e4fe75",
   "metadata": {},
   "outputs": [
    {
     "data": {
      "text/plain": [
       "{'mobilenumber': (435345, 345345, 34545654)}"
      ]
     },
     "execution_count": 70,
     "metadata": {},
     "output_type": "execute_result"
    }
   ],
   "source": [
    "d8"
   ]
  },
  {
   "cell_type": "code",
   "execution_count": 71,
   "id": "a25f0d6f-209e-4ef3-895e-181c9fdca927",
   "metadata": {},
   "outputs": [],
   "source": [
    "d8[\"name\"] = \"mohit\""
   ]
  },
  {
   "cell_type": "code",
   "execution_count": 72,
   "id": "51fb801d-ff4c-4113-9c37-cb9d8dac5128",
   "metadata": {},
   "outputs": [
    {
     "data": {
      "text/plain": [
       "{'mobilenumber': (435345, 345345, 34545654), 'name': 'mohit'}"
      ]
     },
     "execution_count": 72,
     "metadata": {},
     "output_type": "execute_result"
    }
   ],
   "source": [
    "d8"
   ]
  },
  {
   "cell_type": "code",
   "execution_count": 73,
   "id": "36fddc8f-eef9-4d1c-ac23-2b58bd5a0ea6",
   "metadata": {},
   "outputs": [],
   "source": [
    "def test10(**kwargs):\n",
    "    return kwargs"
   ]
  },
  {
   "cell_type": "code",
   "execution_count": 74,
   "id": "5d9bdc6e-f94d-480d-9278-277d69ca9f0f",
   "metadata": {},
   "outputs": [
    {
     "data": {
      "text/plain": [
       "{'a': 4, 'b': 5, 'c': 6, 'mohit': [7, 4, 5, 6, 7]}"
      ]
     },
     "execution_count": 74,
     "metadata": {},
     "output_type": "execute_result"
    }
   ],
   "source": [
    "test10(a=4 , b=5 , c=6 , mohit=[7,4,5,6,7])"
   ]
  },
  {
   "cell_type": "code",
   "execution_count": 75,
   "id": "2630008c-f057-4586-b6cd-66acfb887dbc",
   "metadata": {},
   "outputs": [],
   "source": [
    "def test11(**mohit):\n",
    "    return mohit"
   ]
  },
  {
   "cell_type": "code",
   "execution_count": 76,
   "id": "cdc8bbc9-7cc3-4cfa-8272-6bfd48618aa3",
   "metadata": {},
   "outputs": [
    {
     "data": {
      "text/plain": [
       "{'b': 435, 'm': 6546}"
      ]
     },
     "execution_count": 76,
     "metadata": {},
     "output_type": "execute_result"
    }
   ],
   "source": [
    "test11(b = 435, m =6546)"
   ]
  },
  {
   "cell_type": "code",
   "execution_count": 77,
   "id": "f7deac40-0ed8-423f-910f-d412cd4c5fb3",
   "metadata": {},
   "outputs": [],
   "source": [
    "def test12(a):\n",
    "    return a\n",
    "\n",
    "def test13(b):\n",
    "    return b\n",
    "\n",
    "def test14(func):\n",
    "    return func(\"mohit\")"
   ]
  },
  {
   "cell_type": "code",
   "execution_count": 78,
   "id": "c64a7cbd-5576-4155-b29c-11bcee37f839",
   "metadata": {},
   "outputs": [
    {
     "data": {
      "text/plain": [
       "'mohit'"
      ]
     },
     "execution_count": 78,
     "metadata": {},
     "output_type": "execute_result"
    }
   ],
   "source": [
    "test14(test12)"
   ]
  },
  {
   "cell_type": "code",
   "execution_count": 79,
   "id": "c3d3e1c2-9304-4f10-88b0-288468c63fd5",
   "metadata": {},
   "outputs": [
    {
     "data": {
      "text/plain": [
       "'mohit'"
      ]
     },
     "execution_count": 79,
     "metadata": {},
     "output_type": "execute_result"
    }
   ],
   "source": [
    "test14(test13)"
   ]
  },
  {
   "cell_type": "code",
   "execution_count": 80,
   "id": "6bceacbc-194d-4167-a91f-485444eeb9f1",
   "metadata": {},
   "outputs": [],
   "source": [
    "def test12(a):\n",
    "    return a\n",
    "\n",
    "def test13(*args):\n",
    "    return \"mohit\"\n",
    "\n",
    "def test14(func):\n",
    "    return func(\"mohit\")"
   ]
  },
  {
   "cell_type": "code",
   "execution_count": 81,
   "id": "a41d0b94-fd4e-41f6-b8f3-23415378d5a5",
   "metadata": {},
   "outputs": [
    {
     "data": {
      "text/plain": [
       "'mohit'"
      ]
     },
     "execution_count": 81,
     "metadata": {},
     "output_type": "execute_result"
    }
   ],
   "source": [
    "test14(test12)"
   ]
  },
  {
   "cell_type": "code",
   "execution_count": 82,
   "id": "c3c09211-b35b-48fc-94bf-16143b767532",
   "metadata": {},
   "outputs": [
    {
     "data": {
      "text/plain": [
       "'mohit'"
      ]
     },
     "execution_count": 82,
     "metadata": {},
     "output_type": "execute_result"
    }
   ],
   "source": [
    "test14(test13)"
   ]
  },
  {
   "cell_type": "code",
   "execution_count": 85,
   "id": "13142b99-744b-4fe4-b130-318c8de322fe",
   "metadata": {},
   "outputs": [],
   "source": [
    "def test15(a):\n",
    "    print(\"ths is my test15\")\n",
    "    \n",
    "    def test16():\n",
    "        print(\"this is my test16\")\n",
    "        \n",
    "    def test17():\n",
    "        print(\"this is my test17\")\n",
    "        \n",
    "    if a == \"mohit\" :\n",
    "        return test16()\n",
    "    \n",
    "    elif a == \"yadav\" :\n",
    "        return test17()"
   ]
  },
  {
   "cell_type": "code",
   "execution_count": 88,
   "id": "0cadb93e-d416-4e2e-83ca-2c1bf741d9c8",
   "metadata": {},
   "outputs": [
    {
     "name": "stdout",
     "output_type": "stream",
     "text": [
      "ths is my test15\n",
      "this is my test16\n"
     ]
    }
   ],
   "source": [
    "test15(\"mohit\")"
   ]
  },
  {
   "cell_type": "code",
   "execution_count": 90,
   "id": "6dc90068-eaa6-42da-8e4d-47b76dc28507",
   "metadata": {},
   "outputs": [
    {
     "name": "stdout",
     "output_type": "stream",
     "text": [
      "ths is my test15\n",
      "this is my test17\n"
     ]
    }
   ],
   "source": [
    "test15(\"yadav\")"
   ]
  },
  {
   "cell_type": "code",
   "execution_count": 20,
   "id": "53ad09af-066c-4aa2-8189-c7c846502699",
   "metadata": {},
   "outputs": [],
   "source": [
    "def test13(*args):\n",
    "    print(\" this is a return of test13\")"
   ]
  },
  {
   "cell_type": "code",
   "execution_count": 21,
   "id": "29c7c135-5c62-4dc1-bf89-ff6dc99754e1",
   "metadata": {},
   "outputs": [],
   "source": [
    "def test18(func):\n",
    "    def test19():\n",
    "        print(\" i am inside test19\")\n",
    "        func()\n",
    "    return test19()\n",
    "    "
   ]
  },
  {
   "cell_type": "code",
   "execution_count": 22,
   "id": "6c8309e3-7f2a-43e5-b76b-66bf9868bb4c",
   "metadata": {},
   "outputs": [
    {
     "name": "stdout",
     "output_type": "stream",
     "text": [
      " i am inside test19\n",
      " this is a return of test13\n"
     ]
    }
   ],
   "source": [
    "test18(test13)"
   ]
  },
  {
   "cell_type": "code",
   "execution_count": 23,
   "id": "b47f579e-ec9a-401d-aa8e-d8b81b9a3755",
   "metadata": {},
   "outputs": [],
   "source": [
    "def test18():\n",
    "    def test19():\n",
    "        print(\" i am inside test19\")\n",
    "    return test19()"
   ]
  },
  {
   "cell_type": "code",
   "execution_count": 24,
   "id": "5819858c-1b8d-41ce-993f-f1c03f07ecb8",
   "metadata": {},
   "outputs": [
    {
     "name": "stdout",
     "output_type": "stream",
     "text": [
      " i am inside test19\n"
     ]
    }
   ],
   "source": [
    "test18()"
   ]
  },
  {
   "cell_type": "code",
   "execution_count": 39,
   "id": "093c2c15-2b47-4cb9-a01e-f2b1a5126dc6",
   "metadata": {},
   "outputs": [],
   "source": [
    "import os\n",
    "def test18(func):\n",
    "    def test19():\n",
    "        print(\" i am inside test19 and this will behave  a decorator to any function that i am going to call \")\n",
    "        print(os.getcwd())\n",
    "        func()\n",
    "    return test19"
   ]
  },
  {
   "cell_type": "code",
   "execution_count": 40,
   "id": "a4f2a532-3245-430f-86f4-53f45037b1ea",
   "metadata": {},
   "outputs": [],
   "source": [
    "@test18\n",
    "def test20():\n",
    "    print(\" this is my test20\")"
   ]
  },
  {
   "cell_type": "code",
   "execution_count": 41,
   "id": "40ae1b37-e7b0-49eb-b519-41978a315cba",
   "metadata": {},
   "outputs": [
    {
     "name": "stdout",
     "output_type": "stream",
     "text": [
      " i am inside test19 and this will behave  a decorator to any function that i am going to call \n",
      "/home/jovyan/work\n",
      " this is my test20\n"
     ]
    }
   ],
   "source": [
    "test20()"
   ]
  },
  {
   "cell_type": "code",
   "execution_count": 42,
   "id": "37728f4c-c76e-4bbf-9d7b-71e4e9e6c519",
   "metadata": {},
   "outputs": [
    {
     "data": {
      "text/plain": [
       "'/home/jovyan/work'"
      ]
     },
     "execution_count": 42,
     "metadata": {},
     "output_type": "execute_result"
    }
   ],
   "source": [
    "pwd"
   ]
  },
  {
   "cell_type": "code",
   "execution_count": 44,
   "id": "0601c4d9-a09b-498a-9502-3b03340d0ac9",
   "metadata": {},
   "outputs": [],
   "source": [
    "def test20(func):\n",
    "    def test21():\n",
    "        func()\n",
    "        print(os.getcwd())\n",
    "    return test21"
   ]
  },
  {
   "cell_type": "code",
   "execution_count": 49,
   "id": "5af4e729-b9da-42b0-b9b7-5eb3b59c6bfd",
   "metadata": {},
   "outputs": [],
   "source": [
    "@test18\n",
    "@test20\n",
    "def test22():\n",
    "    print(\"this will print inside test22\")"
   ]
  },
  {
   "cell_type": "code",
   "execution_count": 50,
   "id": "60d45416-e489-4bfd-ad5f-b8330db4a1ce",
   "metadata": {},
   "outputs": [
    {
     "name": "stdout",
     "output_type": "stream",
     "text": [
      " i am inside test19 and this will behave  a decorator to any function that i am going to call \n",
      "/home/jovyan/work\n",
      "this will print inside test22\n",
      "/home/jovyan/work\n"
     ]
    }
   ],
   "source": [
    "test22()"
   ]
  },
  {
   "cell_type": "code",
   "execution_count": 51,
   "id": "70bab8df-7363-4792-bf19-24ce6844b57e",
   "metadata": {},
   "outputs": [
    {
     "name": "stdout",
     "output_type": "stream",
     "text": [
      "hello\n",
      "0.00011038780212402344\n"
     ]
    }
   ],
   "source": [
    "import time\n",
    "\n",
    "start = time.time()\n",
    "print(\"hello\")\n",
    "end = time.time()\n",
    "print(end-start)"
   ]
  },
  {
   "cell_type": "code",
   "execution_count": 52,
   "id": "59d0cbb5-8f45-4cea-b79d-5c6c35a13570",
   "metadata": {},
   "outputs": [
    {
     "data": {
      "text/plain": [
       "1683442172.739486"
      ]
     },
     "execution_count": 52,
     "metadata": {},
     "output_type": "execute_result"
    }
   ],
   "source": [
    "time.time()"
   ]
  },
  {
   "cell_type": "code",
   "execution_count": 71,
   "id": "f5cc793f-41b6-469d-b7f1-4baace28af5c",
   "metadata": {},
   "outputs": [],
   "source": [
    "def test25(func):\n",
    "    def test26():\n",
    "        print(\" this will give you executation time of a function \")\n",
    "        start = time.time()\n",
    "        func()\n",
    "        print(func())\n",
    "        end = time.time()\n",
    "        print(end - start)\n",
    "    return test26\n",
    "\n",
    "@test25\n",
    "def test27():\n",
    "    \"\"\"\n",
    "    this is a function which will take a decorator for calcoulating a execution timing of a function\n",
    "    \"\"\"\n",
    "    l = [4,5,6,7,8,8]\n",
    "    l1 = []\n",
    "    for i in l:\n",
    "        if type(i) == int:\n",
    "            l1.append(i)\n",
    "    return l1"
   ]
  },
  {
   "cell_type": "code",
   "execution_count": 72,
   "id": "69e42c8f-4576-4c0c-825c-ea567e363acf",
   "metadata": {},
   "outputs": [
    {
     "name": "stdout",
     "output_type": "stream",
     "text": [
      " this will give you executation time of a function \n",
      "[4, 5, 6, 7, 8, 8]\n",
      "1.2636184692382812e-05\n"
     ]
    }
   ],
   "source": [
    "test27()"
   ]
  },
  {
   "cell_type": "code",
   "execution_count": null,
   "id": "1efb437f-8606-45c7-abda-74615eb8eb2c",
   "metadata": {},
   "outputs": [],
   "source": []
  },
  {
   "cell_type": "code",
   "execution_count": null,
   "id": "f2a8ed51-bddb-4e69-958f-18fd6545a18d",
   "metadata": {},
   "outputs": [],
   "source": []
  }
 ],
 "metadata": {
  "kernelspec": {
   "display_name": "Python 3 (ipykernel)",
   "language": "python",
   "name": "python3"
  },
  "language_info": {
   "codemirror_mode": {
    "name": "ipython",
    "version": 3
   },
   "file_extension": ".py",
   "mimetype": "text/x-python",
   "name": "python",
   "nbconvert_exporter": "python",
   "pygments_lexer": "ipython3",
   "version": "3.10.6"
  }
 },
 "nbformat": 4,
 "nbformat_minor": 5
}
